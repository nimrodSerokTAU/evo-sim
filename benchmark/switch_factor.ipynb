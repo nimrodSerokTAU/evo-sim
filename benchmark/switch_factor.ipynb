{
 "cells": [
  {
   "cell_type": "code",
   "execution_count": 1,
   "metadata": {},
   "outputs": [],
   "source": [
    "import timeit\n",
    "from pathlib import Path\n",
    "\n",
    "\n",
    "import sys\n",
    "sys.path.append(str(Path.cwd().parent / \"classes\"))\n",
    "sys.path.append(str(Path.cwd().parent))\n",
    "\n",
    "import pandas as pd\n",
    "from matplotlib import pyplot as plt\n",
    "\n",
    "from sim_config import SimConfiguration\n",
    "from simulation import Simulation\n",
    "from msa import Msa\n"
   ]
  },
  {
   "cell_type": "code",
   "execution_count": 23,
   "metadata": {},
   "outputs": [
    {
     "data": {
      "text/plain": [
       "<Axes: xlabel='factor', ylabel='true'>"
      ]
     },
     "execution_count": 23,
     "metadata": {},
     "output_type": "execute_result"
    },
    {
     "data": {
      "image/png": "[encoded data removed]",
      "text/plain": [
       "<Figure size 640x480 with 1 Axes>"
      ]
     },
     "metadata": {},
     "output_type": "display_data"
    }
   ],
   "source": [
    "ROOT_SEQUENCE_LENGTH = 1000\n",
    "\n",
    "TREES_PATH = Path.cwd() / \"TRUE_TREES\"\n",
    "time_winners = []\n",
    "measured_times: list[list[float]] = []\n",
    "\n",
    "\n",
    "\n",
    "def refresh_sim(tree_file):\n",
    "    sim_config = SimConfiguration(original_sequence_length=ROOT_SEQUENCE_LENGTH, indel_length_alpha=2.0,\n",
    "                                indel_truncated_length=50,\n",
    "                                rate_ins=0.03, rate_del=0.09,\n",
    "                                deletion_extra_edge_length=5,\n",
    "                                switch_factor=50,\n",
    "                                seed=81)\n",
    "    sim = Simulation(input_tree=str(tree_file), config=sim_config)\n",
    "\n",
    "    return sim\n",
    "\n",
    "factor_compare = {\"true\": [], \"factor\": []}\n",
    "\n",
    "sim = refresh_sim(\"/home/elyawy/temp/evo-sim/benchmark/TRUE_TREES/ZNF385B_true_tree.txt\")\n",
    "for i in sim.sim_nodes[1:]:\n",
    "    factor_compare[\"true\"].append(len(i.list_of_events))\n",
    "    factor_compare[\"factor\"].append(i.hybrid_factor)\n",
    "\n",
    "comparison_df = pd.DataFrame(factor_compare)\n",
    "comparison_df.plot.scatter(x=\"factor\",y=\"true\")"
   ]
  },
  {
   "cell_type": "code",
   "execution_count": 21,
   "metadata": {},
   "outputs": [
    {
     "data": {
      "text/html": [
       "<div>\n",
       "<style scoped>\n",
       "    .dataframe tbody tr th:only-of-type {\n",
       "        vertical-align: middle;\n",
       "    }\n",
       "\n",
       "    .dataframe tbody tr th {\n",
       "        vertical-align: top;\n",
       "    }\n",
       "\n",
       "    .dataframe thead th {\n",
       "        text-align: right;\n",
       "    }\n",
       "</style>\n",
       "<table border=\"1\" class=\"dataframe\">\n",
       "  <thead>\n",
       "    <tr style=\"text-align: right;\">\n",
       "      <th></th>\n",
       "      <th>true</th>\n",
       "      <th>factor</th>\n",
       "    </tr>\n",
       "  </thead>\n",
       "  <tbody>\n",
       "    <tr>\n",
       "      <th>true</th>\n",
       "      <td>1.000000</td>\n",
       "      <td>0.946385</td>\n",
       "    </tr>\n",
       "    <tr>\n",
       "      <th>factor</th>\n",
       "      <td>0.946385</td>\n",
       "      <td>1.000000</td>\n",
       "    </tr>\n",
       "  </tbody>\n",
       "</table>\n",
       "</div>"
      ],
      "text/plain": [
       "            true    factor\n",
       "true    1.000000  0.946385\n",
       "factor  0.946385  1.000000"
      ]
     },
     "execution_count": 21,
     "metadata": {},
     "output_type": "execute_result"
    }
   ],
   "source": [
    "comparison_df.corr()"
   ]
  },
  {
   "cell_type": "code",
   "execution_count": 18,
   "metadata": {},
   "outputs": [],
   "source": [
    "comparison_df[\"dist\"] = (comparison_df.true - comparison_df.factor)**2"
   ]
  },
  {
   "cell_type": "code",
   "execution_count": 19,
   "metadata": {},
   "outputs": [
    {
     "data": {
      "text/plain": [
       "true      17.000000\n",
       "factor     9.581449\n",
       "dist      55.034896\n",
       "Name: 3, dtype: float64"
      ]
     },
     "execution_count": 19,
     "metadata": {},
     "output_type": "execute_result"
    }
   ],
   "source": [
    "comparison_df.loc[comparison_df[\"dist\"].argmax()]"
   ]
  },
  {
   "cell_type": "code",
   "execution_count": 22,
   "metadata": {},
   "outputs": [
    {
     "data": {
      "text/plain": [
       "2.7685156081393822"
      ]
     },
     "execution_count": 22,
     "metadata": {},
     "output_type": "execute_result"
    }
   ],
   "source": [
    "a = -2.0\n",
    "\n",
    "zipf_sum = sum([x**a for x in range(1,51)])\n",
    "avg = sum([x*(x**a/zipf_sum) for x in range(1,51)])\n",
    "avg"
   ]
  }
 ],
 "metadata": {
  "kernelspec": {
   "display_name": ".venv",
   "language": "python",
   "name": "python3"
  },
  "language_info": {
   "codemirror_mode": {
    "name": "ipython",
    "version": 3
   },
   "file_extension": ".py",
   "mimetype": "text/x-python",
   "name": "python",
   "nbconvert_exporter": "python",
   "pygments_lexer": "ipython3",
   "version": "3.12.8"
  }
 },
 "nbformat": 4,
 "nbformat_minor": 2
}
