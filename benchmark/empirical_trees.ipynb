{
 "cells": [
  {
   "cell_type": "code",
   "execution_count": null,
   "metadata": {},
   "outputs": [],
   "source": [
    "import timeit\n",
    "from pathlib import Path\n",
    "import re\n",
    "import sys\n",
    "sys.path.append(str(Path.cwd().parent / \"classes\"))\n",
    "sys.path.append(str(Path.cwd().parent))\n",
    "\n",
    "import pandas as pd\n",
    "from matplotlib import pyplot as plt\n",
    "import seaborn as sns\n",
    "from scipy import stats\n",
    "\n",
    "from sim_config import SimConfiguration\n",
    "from simulation import Simulation\n",
    "from msa import Msa\n",
    "\n",
    "\n",
    "TREES_PATH = Path.cwd() / \"TRUE_TREES\"\n"
   ]
  },
  {
   "cell_type": "code",
   "execution_count": 27,
   "metadata": {},
   "outputs": [],
   "source": [
    "def scale_tree(tree_path: str, scale_factor: float, overwrite: bool=False):\n",
    "    # Read the tree\n",
    "    tree_path = Path(tree_path)\n",
    "\n",
    "    with open(tree_path, 'r') as f:\n",
    "        newick_str = f.read().strip()\n",
    "    \n",
    "    # Function to scale branch lengths in Newick string\n",
    "    def scale_length(match):\n",
    "        length = float(match.group(1))\n",
    "        scaled = length * scale_factor\n",
    "        return f\":{scaled:.10f}\"\n",
    "    \n",
    "    # Scale all branch lengths using regex\n",
    "    scaled_newick = re.sub(r':([0-9.]+)', scale_length, newick_str)\n",
    "\n",
    "    scaled_tree_path = (tree_path.parent / f\"scaled_{scale_factor}.tree\") if not overwrite else tree_path\n",
    "    # Write the scaled tree directly\n",
    "    with open(scaled_tree_path, 'w') as f:\n",
    "        f.write(scaled_newick)\n",
    "    return scaled_tree_path\n",
    "\n",
    "# for tree_path in list(TREES_PATH.iterdir()):#[0.5, 1,2,4,8,16]:\n",
    "#     scale_tree(str(tree_path), 10, True)\n"
   ]
  },
  {
   "cell_type": "code",
   "execution_count": 33,
   "metadata": {},
   "outputs": [],
   "source": [
    "def refresh_sim(tree_file):\n",
    "    ROOT_SEQUENCE_LENGTH = 500\n",
    "\n",
    "    sim_config = SimConfiguration(original_sequence_length=ROOT_SEQUENCE_LENGTH, indel_length_alpha=2.0,\n",
    "                                indel_truncated_length=50,\n",
    "                                rate_ins=0.03, rate_del=0.03,\n",
    "                                deletion_extra_edge_length=50,\n",
    "                                switch_factor=200,\n",
    "                                seed=111)\n",
    "    sim = Simulation(input_tree=str(tree_file), config=sim_config)\n",
    "    return sim\n",
    "time_labels = [\"tree\", \"hybrid\", \"blocktree\", \"blocklist\", \"naive\"]\n"
   ]
  },
  {
   "cell_type": "code",
   "execution_count": 34,
   "metadata": {},
   "outputs": [
    {
     "name": "stdout",
     "output_type": "stream",
     "text": [
      "[PosixPath('/home/elyalab/Dev/failed_syncs/evo-sim/benchmark/BALiBase_trees/BBS20031_60.tree'), 1000, 0.2749031860003015, 0.20503775099859922, 1.3118820640011108]\n",
      "[PosixPath('/home/elyalab/Dev/failed_syncs/evo-sim/benchmark/BALiBase_trees/BBS20023_31.tree'), 1000, 0.14184053300050437, 0.09760829800143256, 0.37934074900113046]\n",
      "[PosixPath('/home/elyalab/Dev/failed_syncs/evo-sim/benchmark/BALiBase_trees/BBS20014_65.tree'), 1000, 0.34183598500021617, 0.24623958499796572, 1.681015596997895]\n",
      "[PosixPath('/home/elyalab/Dev/failed_syncs/evo-sim/benchmark/BALiBase_trees/BBS12029_12.tree'), 1000, 0.046213742996769724, 0.032034805000876077, 0.0992197870000382]\n",
      "[PosixPath('/home/elyalab/Dev/failed_syncs/evo-sim/benchmark/BALiBase_trees/BBS50016_18.tree'), 1000, 0.13379939000151353, 0.08332358700135956, 0.2953694710013224]\n",
      "[PosixPath('/home/elyalab/Dev/failed_syncs/evo-sim/benchmark/BALiBase_trees/BBS11007_9.tree'), 1000, 0.059282307000103174, 0.03355602999727125, 0.10052046900091227]\n",
      "[PosixPath('/home/elyalab/Dev/failed_syncs/evo-sim/benchmark/BALiBase_trees/BBS12021_6.tree'), 1000, 0.02373672700196039, 0.015176616001554066, 0.03634835800039582]\n",
      "[PosixPath('/home/elyalab/Dev/failed_syncs/evo-sim/benchmark/BALiBase_trees/BBS12008_13.tree'), 1000, 0.06044504699821118, 0.03968670799804386, 0.1284064470019075]\n",
      "[PosixPath('/home/elyalab/Dev/failed_syncs/evo-sim/benchmark/BALiBase_trees/BBS12023_5.tree'), 1000, 0.020005779999337392, 0.013706797999475384, 0.032000931998481974]\n",
      "[PosixPath('/home/elyalab/Dev/failed_syncs/evo-sim/benchmark/BALiBase_trees/BBS20017_45.tree'), 1000, 0.17713590600033058, 0.13530194600025425, 0.6771835670006112]\n",
      "[PosixPath('/home/elyalab/Dev/failed_syncs/evo-sim/benchmark/BALiBase_trees/BBS50015_32.tree'), 1000, 0.19997896299901186, 0.12357248300031642, 0.7154345959970669]\n",
      "[PosixPath('/home/elyalab/Dev/failed_syncs/evo-sim/benchmark/BALiBase_trees/BBS12039_11.tree'), 1000, 0.09780221199980588, 0.05097487800230738, 0.1723536259996763]\n",
      "[PosixPath('/home/elyalab/Dev/failed_syncs/evo-sim/benchmark/BALiBase_trees/BBS30009_38.tree'), 1000, 0.13792063700020663, 0.11038620600083959, 0.42087407300277846]\n",
      "[PosixPath('/home/elyalab/Dev/failed_syncs/evo-sim/benchmark/BALiBase_trees/BBS20032_61.tree'), 1000, 0.32376846600163844, 0.24219408499993733, 1.9423665889989934]\n",
      "[PosixPath('/home/elyalab/Dev/failed_syncs/evo-sim/benchmark/BALiBase_trees/BBS12015_12.tree'), 1000, 0.049587339999561664, 0.0337856299993291, 0.11067409899987979]\n",
      "[PosixPath('/home/elyalab/Dev/failed_syncs/evo-sim/benchmark/BALiBase_trees/BBS11028_10.tree'), 1000, 0.08744655199916451, 0.05046686000059708, 0.14711843500117538]\n",
      "[PosixPath('/home/elyalab/Dev/failed_syncs/evo-sim/benchmark/BALiBase_trees/BBS20018_53.tree'), 1000, 0.19767037999918102, 0.16109298700030195, 0.7710658779978985]\n",
      "[PosixPath('/home/elyalab/Dev/failed_syncs/evo-sim/benchmark/BALiBase_trees/BBS11031_11.tree'), 1000, 0.11982799600082217, 0.06561541699920781, 0.20689194299848168]\n",
      "[PosixPath('/home/elyalab/Dev/failed_syncs/evo-sim/benchmark/BALiBase_trees/BBS20020_16.tree'), 1000, 0.07011977000001934, 0.05153938999865204, 0.18375504099822138]\n",
      "[PosixPath('/home/elyalab/Dev/failed_syncs/evo-sim/benchmark/BALiBase_trees/BBS11019_10.tree'), 1000, 0.06288026200127206, 0.035940065998147475, 0.10682624900073279]\n",
      "[PosixPath('/home/elyalab/Dev/failed_syncs/evo-sim/benchmark/BALiBase_trees/BBS20011_21.tree'), 1000, 0.09692208000342362, 0.06838195599993924, 0.28239911700075027]\n",
      "[PosixPath('/home/elyalab/Dev/failed_syncs/evo-sim/benchmark/BALiBase_trees/BBS30018_78.tree'), 1000, 0.251811259000533, 0.2110202850017231, 1.2203411759983283]\n",
      "[PosixPath('/home/elyalab/Dev/failed_syncs/evo-sim/benchmark/BALiBase_trees/BBS11005_14.tree'), 1000, 0.09507360800125753, 0.05435015100010787, 0.20264249899992137]\n",
      "[PosixPath('/home/elyalab/Dev/failed_syncs/evo-sim/benchmark/BALiBase_trees/BBS20035_35.tree'), 1000, 0.1519339160004165, 0.10797667699807789, 0.5342435290003777]\n",
      "[PosixPath('/home/elyalab/Dev/failed_syncs/evo-sim/benchmark/BALiBase_trees/BBS30022_66.tree'), 1000, 0.21761010000045644, 0.18074231699938537, 1.0131869509968965]\n",
      "[PosixPath('/home/elyalab/Dev/failed_syncs/evo-sim/benchmark/BALiBase_trees/BBS30011_65.tree'), 1000, 0.21892332800052827, 0.17628306899860036, 0.8919096939971496]\n",
      "[PosixPath('/home/elyalab/Dev/failed_syncs/evo-sim/benchmark/BALiBase_trees/BBS20002_20.tree'), 1000, 0.10778333299822407, 0.06977647700114176, 0.2892665229992417]\n",
      "[PosixPath('/home/elyalab/Dev/failed_syncs/evo-sim/benchmark/BALiBase_trees/BBS20033_48.tree'), 1000, 0.18685934499808354, 0.1322309610004595, 0.6455753800000821]\n",
      "[PosixPath('/home/elyalab/Dev/failed_syncs/evo-sim/benchmark/BALiBase_trees/BBS11038_8.tree'), 1000, 0.05987900300169713, 0.03235138200034271, 0.09563137800068944]\n",
      "[PosixPath('/home/elyalab/Dev/failed_syncs/evo-sim/benchmark/BALiBase_trees/BBS12036_7.tree'), 1000, 0.031370099997729994, 0.020213666000927333, 0.04410397399988142]\n",
      "[PosixPath('/home/elyalab/Dev/failed_syncs/evo-sim/benchmark/BALiBase_trees/BBS11014_6.tree'), 1000, 0.03948956100066425, 0.019741552998311818, 0.04577622400029213]\n",
      "[PosixPath('/home/elyalab/Dev/failed_syncs/evo-sim/benchmark/BALiBase_trees/BBS12011_12.tree'), 1000, 0.07992513100180076, 0.044407512999896426, 0.13513950500055216]\n",
      "[PosixPath('/home/elyalab/Dev/failed_syncs/evo-sim/benchmark/BALiBase_trees/BBS11026_7.tree'), 1000, 0.048015862001193454, 0.025637636997998925, 0.07075625400102581]\n",
      "[PosixPath('/home/elyalab/Dev/failed_syncs/evo-sim/benchmark/BALiBase_trees/BBS12038_10.tree'), 1000, 0.05375018500126316, 0.031673965000663884, 0.09068261900029029]\n",
      "[PosixPath('/home/elyalab/Dev/failed_syncs/evo-sim/benchmark/BALiBase_trees/BBS30028_89.tree'), 1000, 0.46606877600061125, 0.31946292600332526, 2.762522719996923]\n",
      "[PosixPath('/home/elyalab/Dev/failed_syncs/evo-sim/benchmark/BALiBase_trees/BBS11020_9.tree'), 1000, 0.06448729499970796, 0.048255066001729574, 0.09379098800127394]\n",
      "[PosixPath('/home/elyalab/Dev/failed_syncs/evo-sim/benchmark/BALiBase_trees/BBS50013_18.tree'), 1000, 0.07567810399996233, 0.05556382899885648, 0.18167711999922176]\n",
      "[PosixPath('/home/elyalab/Dev/failed_syncs/evo-sim/benchmark/BALiBase_trees/BBS30024_69.tree'), 1000, 0.31039705400326056, 0.29029877700304496, 1.6726205560007656]\n",
      "[PosixPath('/home/elyalab/Dev/failed_syncs/evo-sim/benchmark/BALiBase_trees/BBS20037_65.tree'), 1000, 0.2832957760001591, 0.2161194059990521, 1.7556045860001177]\n",
      "[PosixPath('/home/elyalab/Dev/failed_syncs/evo-sim/benchmark/BALiBase_trees/BBS30025_74.tree'), 1000, 0.29412018899893155, 0.2416375929969945, 1.678461077997781]\n",
      "[PosixPath('/home/elyalab/Dev/failed_syncs/evo-sim/benchmark/BALiBase_trees/BBS20006_51.tree'), 1000, 0.23235088200090104, 0.16966010900068795, 1.022399076999136]\n",
      "[PosixPath('/home/elyalab/Dev/failed_syncs/evo-sim/benchmark/BALiBase_trees/BBS20027_29.tree'), 1000, 0.14195771600134321, 0.09732260099917767, 0.4510970500014082]\n",
      "[PosixPath('/home/elyalab/Dev/failed_syncs/evo-sim/benchmark/BALiBase_trees/BBS12004_15.tree'), 1000, 0.07801319699865417, 0.04846470200209296, 0.18461725499946624]\n",
      "[PosixPath('/home/elyalab/Dev/failed_syncs/evo-sim/benchmark/BALiBase_trees/BBS11034_8.tree'), 1000, 0.09691049100001692, 0.03818895599761163, 0.09101298699897598]\n",
      "[PosixPath('/home/elyalab/Dev/failed_syncs/evo-sim/benchmark/BALiBase_trees/BBS11018_14.tree'), 1000, 0.1266877719972399, 0.06644392800080823, 0.26658493699869723]\n",
      "[PosixPath('/home/elyalab/Dev/failed_syncs/evo-sim/benchmark/BALiBase_trees/BBS30016_37.tree'), 1000, 0.195915533000516, 0.12663570899894694, 0.6065802890007035]\n",
      "[PosixPath('/home/elyalab/Dev/failed_syncs/evo-sim/benchmark/BALiBase_trees/BBS30012_65.tree'), 1000, 0.3162494060015888, 0.23357334899992566, 1.41048260900061]\n",
      "[PosixPath('/home/elyalab/Dev/failed_syncs/evo-sim/benchmark/BALiBase_trees/BBS12035_27.tree'), 1000, 0.1440314200008288, 0.09145273600006476, 0.4366013770013524]\n",
      "[PosixPath('/home/elyalab/Dev/failed_syncs/evo-sim/benchmark/BALiBase_trees/BBS30017_15.tree'), 1000, 0.06413130200235173, 0.04406949400072335, 0.14064156699896557]\n",
      "[PosixPath('/home/elyalab/Dev/failed_syncs/evo-sim/benchmark/BALiBase_trees/BBS20026_32.tree'), 1000, 0.16416890700202202, 0.114095772998553, 0.5164143780020822]\n",
      "[PosixPath('/home/elyalab/Dev/failed_syncs/evo-sim/benchmark/BALiBase_trees/BBS12013_8.tree'), 1000, 0.04396412699861685, 0.024209297000197694, 0.10681894400113379]\n",
      "[PosixPath('/home/elyalab/Dev/failed_syncs/evo-sim/benchmark/BALiBase_trees/BBS11006_8.tree'), 1000, 0.06761380300304154, 0.03864323100060574, 0.10127154300062102]\n",
      "[PosixPath('/home/elyalab/Dev/failed_syncs/evo-sim/benchmark/BALiBase_trees/BBS30026_81.tree'), 1000, 0.3851112269985606, 0.2944582599993737, 2.5976440720005485]\n",
      "[PosixPath('/home/elyalab/Dev/failed_syncs/evo-sim/benchmark/BALiBase_trees/BBS30004_50.tree'), 1000, 0.16131203500117408, 0.13564326300183893, 0.6046789610009]\n",
      "[PosixPath('/home/elyalab/Dev/failed_syncs/evo-sim/benchmark/BALiBase_trees/BBS20028_54.tree'), 1000, 0.21439547999762, 0.16788703799829818, 0.949803724000958]\n",
      "[PosixPath('/home/elyalab/Dev/failed_syncs/evo-sim/benchmark/BALiBase_trees/BBS12003_8.tree'), 1000, 0.03320690900000045, 0.021241406997432932, 0.05564416299966979]\n",
      "[PosixPath('/home/elyalab/Dev/failed_syncs/evo-sim/benchmark/BALiBase_trees/BBS50005_11.tree'), 1000, 0.04193579500133637, 0.029873240000597434, 0.08992548999958672]\n",
      "[PosixPath('/home/elyalab/Dev/failed_syncs/evo-sim/benchmark/BALiBase_trees/BBS12017_7.tree'), 1000, 0.03881784600162064, 0.022313524001219776, 0.04855486299857148]\n",
      "[PosixPath('/home/elyalab/Dev/failed_syncs/evo-sim/benchmark/BALiBase_trees/BBS12019_5.tree'), 1000, 0.021077352001157124, 0.012705077999271452, 0.02645640400078264]\n",
      "[PosixPath('/home/elyalab/Dev/failed_syncs/evo-sim/benchmark/BALiBase_trees/BBS12027_13.tree'), 1000, 0.07632784499946865, 0.047499623000476277, 0.15211562599870376]\n",
      "[PosixPath('/home/elyalab/Dev/failed_syncs/evo-sim/benchmark/BALiBase_trees/BBS30029_98.tree'), 1000, 0.3916136140032904, 0.30589327000052435, 2.6693371290020877]\n",
      "[PosixPath('/home/elyalab/Dev/failed_syncs/evo-sim/benchmark/BALiBase_trees/BBS11011_5.tree'), 1000, 0.06605129299714463, 0.03337877599915373, 0.06372099600048386]\n",
      "[PosixPath('/home/elyalab/Dev/failed_syncs/evo-sim/benchmark/BALiBase_trees/BBS12007_8.tree'), 1000, 0.048134501001186436, 0.02838352899925667, 0.07672958300099708]\n",
      "[PosixPath('/home/elyalab/Dev/failed_syncs/evo-sim/benchmark/BALiBase_trees/BBS30020_56.tree'), 1000, 0.24134936499831383, 0.19173022099857917, 1.0535818839998683]\n",
      "[PosixPath('/home/elyalab/Dev/failed_syncs/evo-sim/benchmark/BALiBase_trees/BBS12030_6.tree'), 1000, 0.022497270998428576, 0.015021252998849377, 0.03527720300189685]\n",
      "[PosixPath('/home/elyalab/Dev/failed_syncs/evo-sim/benchmark/BALiBase_trees/BBS50006_60.tree'), 1000, 0.2929181930012419, 0.2103013820014894, 1.5828833490013494]\n",
      "[PosixPath('/home/elyalab/Dev/failed_syncs/evo-sim/benchmark/BALiBase_trees/BBS12022_5.tree'), 1000, 0.03272138199827168, 0.017752857998857507, 0.03562912900088122]\n",
      "[PosixPath('/home/elyalab/Dev/failed_syncs/evo-sim/benchmark/BALiBase_trees/BBS20038_42.tree'), 1000, 0.1365820069986512, 0.11025317899839138, 0.40957528299986734]\n",
      "[PosixPath('/home/elyalab/Dev/failed_syncs/evo-sim/benchmark/BALiBase_trees/BBS50003_43.tree'), 1000, 0.2012226790029672, 0.15687912999783293, 0.8786896959973092]\n",
      "[PosixPath('/home/elyalab/Dev/failed_syncs/evo-sim/benchmark/BALiBase_trees/BBS30002_31.tree'), 1000, 0.15154186300060246, 0.09891416000027675, 0.4281493259986746]\n",
      "[PosixPath('/home/elyalab/Dev/failed_syncs/evo-sim/benchmark/BALiBase_trees/BBS12010_7.tree'), 1000, 0.029472017002262874, 0.018307176997041097, 0.04499442700034706]\n",
      "[PosixPath('/home/elyalab/Dev/failed_syncs/evo-sim/benchmark/BALiBase_trees/BBS20001_16.tree'), 1000, 0.05691318400204182, 0.04202332299973932, 0.14240238499769475]\n",
      "[PosixPath('/home/elyalab/Dev/failed_syncs/evo-sim/benchmark/BALiBase_trees/BBS11016_8.tree'), 1000, 0.05842657399989548, 0.03161052299765288, 0.08087887199872057]\n",
      "[PosixPath('/home/elyalab/Dev/failed_syncs/evo-sim/benchmark/BALiBase_trees/BBS20025_81.tree'), 1000, 0.2925011929983157, 0.24186575000203447, 1.57873042799838]\n",
      "[PosixPath('/home/elyalab/Dev/failed_syncs/evo-sim/benchmark/BALiBase_trees/BBS11033_11.tree'), 1000, 0.08570993499961332, 0.04771972399976221, 0.15711683600238757]\n",
      "[PosixPath('/home/elyalab/Dev/failed_syncs/evo-sim/benchmark/BALiBase_trees/BBS11037_5.tree'), 1000, 0.055413445999874966, 0.03099029399891151, 0.05100394200053415]\n",
      "[PosixPath('/home/elyalab/Dev/failed_syncs/evo-sim/benchmark/BALiBase_trees/BBS12016_5.tree'), 1000, 0.028886346000945196, 0.016240050998021616, 0.03963469700101996]\n",
      "[PosixPath('/home/elyalab/Dev/failed_syncs/evo-sim/benchmark/BALiBase_trees/BBS12031_10.tree'), 1000, 0.08039030900181388, 0.05059936799807474, 0.1239091660027043]\n",
      "[PosixPath('/home/elyalab/Dev/failed_syncs/evo-sim/benchmark/BALiBase_trees/BBS11035_5.tree'), 1000, 0.030135807999613462, 0.01661159799914458, 0.03748070100118639]\n",
      "[PosixPath('/home/elyalab/Dev/failed_syncs/evo-sim/benchmark/BALiBase_trees/BBS20040_87.tree'), 1000, 0.3373135540023213, 0.27590627600147855, 2.015699080999184]\n",
      "[PosixPath('/home/elyalab/Dev/failed_syncs/evo-sim/benchmark/BALiBase_trees/BBS20015_37.tree'), 1000, 0.16431456499776687, 0.11824675100069726, 0.4598491369979456]\n",
      "[PosixPath('/home/elyalab/Dev/failed_syncs/evo-sim/benchmark/BALiBase_trees/BBS50009_28.tree'), 1000, 0.16387009499885608, 0.10131355200064718, 0.5262095660000341]\n",
      "[PosixPath('/home/elyalab/Dev/failed_syncs/evo-sim/benchmark/BALiBase_trees/BBS30008_36.tree'), 1000, 0.17384436700012884, 0.12607198400291963, 0.7274166600000171]\n",
      "[PosixPath('/home/elyalab/Dev/failed_syncs/evo-sim/benchmark/BALiBase_trees/BBS30006_18.tree'), 1000, 0.11763463399984175, 0.06942513799731387, 0.2896012579985836]\n",
      "[PosixPath('/home/elyalab/Dev/failed_syncs/evo-sim/benchmark/BALiBase_trees/BBS11030_14.tree'), 1000, 0.11306197500016424, 0.059640163999574725, 0.25591898600032437]\n",
      "[PosixPath('/home/elyalab/Dev/failed_syncs/evo-sim/benchmark/BALiBase_trees/BBS20029_29.tree'), 1000, 0.12046424700019998, 0.08594349899794906, 0.31681874100104324]\n",
      "[PosixPath('/home/elyalab/Dev/failed_syncs/evo-sim/benchmark/BALiBase_trees/BBS20010_29.tree'), 1000, 0.14613413600091008, 0.1021402250007668, 0.40965383300135727]\n",
      "[PosixPath('/home/elyalab/Dev/failed_syncs/evo-sim/benchmark/BALiBase_trees/BBS30027_20.tree'), 1000, 0.08240078699964215, 0.0605051780003123, 0.21797610900102882]\n",
      "[PosixPath('/home/elyalab/Dev/failed_syncs/evo-sim/benchmark/BALiBase_trees/BBS12041_7.tree'), 1000, 0.07634825000059209, 0.038110524001240265, 0.08655712099789525]\n",
      "[PosixPath('/home/elyalab/Dev/failed_syncs/evo-sim/benchmark/BALiBase_trees/BBS30007_24.tree'), 1000, 0.10480880600152886, 0.07434657799967681, 0.3124805190018378]\n",
      "[PosixPath('/home/elyalab/Dev/failed_syncs/evo-sim/benchmark/BALiBase_trees/BBS12001_11.tree'), 1000, 0.06928970700028003, 0.04138026299915509, 0.14299848600057885]\n",
      "[PosixPath('/home/elyalab/Dev/failed_syncs/evo-sim/benchmark/BALiBase_trees/BBS12043_34.tree'), 1000, 0.17307220000293455, 0.11755210299816099, 0.6191516150029202]\n",
      "[PosixPath('/home/elyalab/Dev/failed_syncs/evo-sim/benchmark/BALiBase_trees/BBS20016_27.tree'), 1000, 0.12216684699887992, 0.08707075499842176, 0.34960236299957614]\n",
      "[PosixPath('/home/elyalab/Dev/failed_syncs/evo-sim/benchmark/BALiBase_trees/BBS20009_29.tree'), 1000, 0.09558996300256695, 0.07673729700036347, 0.2773940670012962]\n",
      "[PosixPath('/home/elyalab/Dev/failed_syncs/evo-sim/benchmark/BALiBase_trees/BBS12040_5.tree'), 1000, 0.035223898998083314, 0.018392439000308514, 0.03629895699850749]\n",
      "[PosixPath('/home/elyalab/Dev/failed_syncs/evo-sim/benchmark/BALiBase_trees/BBS20007_23.tree'), 1000, 0.12883143900035066, 0.08356324400301673, 0.3437317370007804]\n",
      "[PosixPath('/home/elyalab/Dev/failed_syncs/evo-sim/benchmark/BALiBase_trees/BBS20034_59.tree'), 1000, 0.23634574400057318, 0.16914444799840567, 1.038073087001976]\n",
      "[PosixPath('/home/elyalab/Dev/failed_syncs/evo-sim/benchmark/BALiBase_trees/BBS12044_11.tree'), 1000, 0.06911520599896903, 0.038882510001712944, 0.12166198799968697]\n",
      "[PosixPath('/home/elyalab/Dev/failed_syncs/evo-sim/benchmark/BALiBase_trees/BBS50014_30.tree'), 1000, 0.1426880170001823, 0.09322110300126951, 0.4528407440011506]\n",
      "[PosixPath('/home/elyalab/Dev/failed_syncs/evo-sim/benchmark/BALiBase_trees/BBS20013_28.tree'), 1000, 0.16527482800302096, 0.10610152899971581, 0.4731995000001916]\n",
      "[PosixPath('/home/elyalab/Dev/failed_syncs/evo-sim/benchmark/BALiBase_trees/BBS11013_5.tree'), 1000, 0.06068957100069383, 0.0317384280024271, 0.052846231003059074]\n",
      "[PosixPath('/home/elyalab/Dev/failed_syncs/evo-sim/benchmark/BALiBase_trees/BBS30013_86.tree'), 1000, 0.34259599600045476, 0.2845215380002628, 2.182692884998687]\n",
      "[PosixPath('/home/elyalab/Dev/failed_syncs/evo-sim/benchmark/BALiBase_trees/BBS20039_91.tree'), 1000, 0.4422048900014488, 0.3340250189976359, 2.6939715769985924]\n",
      "[PosixPath('/home/elyalab/Dev/failed_syncs/evo-sim/benchmark/BALiBase_trees/BBS50007_23.tree'), 1000, 0.1611879219999537, 0.1018016739981249, 0.46911901500061504]\n",
      "[PosixPath('/home/elyalab/Dev/failed_syncs/evo-sim/benchmark/BALiBase_trees/BBS20030_47.tree'), 1000, 0.28928672799884225, 0.22671122899919283, 0.9909131950007577]\n",
      "[PosixPath('/home/elyalab/Dev/failed_syncs/evo-sim/benchmark/BALiBase_trees/BBS11023_7.tree'), 1000, 0.05121258800136275, 0.02722853800150915, 0.07981021100204089]\n",
      "[PosixPath('/home/elyalab/Dev/failed_syncs/evo-sim/benchmark/BALiBase_trees/BBS11002_8.tree'), 1000, 0.07548378399951616, 0.05758916400009184, 0.09489993899842375]\n",
      "[PosixPath('/home/elyalab/Dev/failed_syncs/evo-sim/benchmark/BALiBase_trees/BBS20005_42.tree'), 1000, 0.23283689799791318, 0.14911475899862126, 0.8678236369996739]\n",
      "[PosixPath('/home/elyalab/Dev/failed_syncs/evo-sim/benchmark/BALiBase_trees/BBS11036_8.tree'), 1000, 0.06188125500193564, 0.030537896000168985, 0.07531803000165382]\n",
      "[PosixPath('/home/elyalab/Dev/failed_syncs/evo-sim/benchmark/BALiBase_trees/BBS20041_48.tree'), 1000, 0.2089361660000577, 0.1581016300006013, 1.0874718760023825]\n",
      "[PosixPath('/home/elyalab/Dev/failed_syncs/evo-sim/benchmark/BALiBase_trees/BBS20008_56.tree'), 1000, 0.2527595659994404, 0.19173312899874873, 1.2475207889983722]\n",
      "[PosixPath('/home/elyalab/Dev/failed_syncs/evo-sim/benchmark/BALiBase_trees/BBS12026_18.tree'), 1000, 0.11500993200024823, 0.06930877299964777, 0.27269404000253417]\n",
      "[PosixPath('/home/elyalab/Dev/failed_syncs/evo-sim/benchmark/BALiBase_trees/BBS12033_7.tree'), 1000, 0.0440193319991522, 0.02631570299854502, 0.06646338000064134]\n",
      "[PosixPath('/home/elyalab/Dev/failed_syncs/evo-sim/benchmark/BALiBase_trees/BBS30015_21.tree'), 1000, 0.08256426499792724, 0.064439277000929, 0.23079056200003834]\n",
      "[PosixPath('/home/elyalab/Dev/failed_syncs/evo-sim/benchmark/BALiBase_trees/BBS20012_27.tree'), 1000, 0.1632920699994429, 0.10811161499805166, 0.39097892200152273]\n",
      "[PosixPath('/home/elyalab/Dev/failed_syncs/evo-sim/benchmark/BALiBase_trees/BBS50008_26.tree'), 1000, 0.09494006000022637, 0.07085439000002225, 0.2852571630028251]\n",
      "[PosixPath('/home/elyalab/Dev/failed_syncs/evo-sim/benchmark/BALiBase_trees/BBS30014_44.tree'), 1000, 0.1620570340019185, 0.13096494500132394, 0.666554923998774]\n",
      "[PosixPath('/home/elyalab/Dev/failed_syncs/evo-sim/benchmark/BALiBase_trees/BBS50011_36.tree'), 1000, 0.31760317999942345, 0.1805122180012404, 1.3013535520003643]\n",
      "[PosixPath('/home/elyalab/Dev/failed_syncs/evo-sim/benchmark/BALiBase_trees/BBS20036_91.tree'), 1000, 0.3332591020007385, 0.2672465719988395, 1.7939453459985089]\n",
      "[PosixPath('/home/elyalab/Dev/failed_syncs/evo-sim/benchmark/BALiBase_trees/BBS12009_5.tree'), 1000, 0.02493235599831678, 0.014810394000960514, 0.03329782500077272]\n",
      "[PosixPath('/home/elyalab/Dev/failed_syncs/evo-sim/benchmark/BALiBase_trees/BBS50012_49.tree'), 1000, 0.2734160450017953, 0.19238000200130045, 1.2775249639998947]\n",
      "[PosixPath('/home/elyalab/Dev/failed_syncs/evo-sim/benchmark/BALiBase_trees/BBS11032_8.tree'), 1000, 0.06567135300065274, 0.034358805998635944, 0.08666653299951577]\n",
      "[PosixPath('/home/elyalab/Dev/failed_syncs/evo-sim/benchmark/BALiBase_trees/BBS30019_34.tree'), 1000, 0.13315095600046334, 0.09709497500080033, 0.4502638220001245]\n",
      "[PosixPath('/home/elyalab/Dev/failed_syncs/evo-sim/benchmark/BALiBase_trees/BBS20022_58.tree'), 1000, 0.23821254399808822, 0.17791279400262283, 0.9960973930028558]\n",
      "[PosixPath('/home/elyalab/Dev/failed_syncs/evo-sim/benchmark/BALiBase_trees/BBS50010_17.tree'), 1000, 0.08283062400005292, 0.05437716099913814, 0.22689656100192224]\n",
      "[PosixPath('/home/elyalab/Dev/failed_syncs/evo-sim/benchmark/BALiBase_trees/BBS20004_55.tree'), 1000, 0.20864998300021398, 0.18902818599963211, 0.8313731970010849]\n",
      "[PosixPath('/home/elyalab/Dev/failed_syncs/evo-sim/benchmark/BALiBase_trees/BBS20003_74.tree'), 1000, 0.34551658000054886, 0.2646066650013381, 2.0149523159998353]\n",
      "[PosixPath('/home/elyalab/Dev/failed_syncs/evo-sim/benchmark/BALiBase_trees/BBS20024_30.tree'), 1000, 0.16328981499827933, 0.1139608949997637, 0.5483200079979724]\n",
      "[PosixPath('/home/elyalab/Dev/failed_syncs/evo-sim/benchmark/BALiBase_trees/BBS20021_53.tree'), 1000, 0.2507732250014669, 0.19212558199797058, 1.1704259479993198]\n",
      "[PosixPath('/home/elyalab/Dev/failed_syncs/evo-sim/benchmark/BALiBase_trees/BBS30010_50.tree'), 1000, 0.18808019399875775, 0.15348170899960678, 0.7001215309974214]\n",
      "[PosixPath('/home/elyalab/Dev/failed_syncs/evo-sim/benchmark/BALiBase_trees/BBS12005_9.tree'), 1000, 0.03489323699977831, 0.023615786998561816, 0.06317932100137114]\n",
      "[PosixPath('/home/elyalab/Dev/failed_syncs/evo-sim/benchmark/BALiBase_trees/BBS12002_6.tree'), 1000, 0.025774058998649707, 0.015539735999482218, 0.03857291399981477]\n",
      "[PosixPath('/home/elyalab/Dev/failed_syncs/evo-sim/benchmark/BALiBase_trees/BBS50002_13.tree'), 1000, 0.22652302500137012, 0.1206190320008318, 0.48438051599805476]\n",
      "[PosixPath('/home/elyalab/Dev/failed_syncs/evo-sim/benchmark/BALiBase_trees/BBS11027_7.tree'), 1000, 0.050777149001078214, 0.026303528000426013, 0.07272423099857406]\n",
      "[PosixPath('/home/elyalab/Dev/failed_syncs/evo-sim/benchmark/BALiBase_trees/BBS12028_8.tree'), 1000, 0.04336868100290303, 0.025131321999651846, 0.06847119400117663]\n",
      "[PosixPath('/home/elyalab/Dev/failed_syncs/evo-sim/benchmark/BALiBase_trees/BBS30030_62.tree'), 1000, 0.2525477269991825, 0.18649728600212256, 1.1808506460001809]\n",
      "[PosixPath('/home/elyalab/Dev/failed_syncs/evo-sim/benchmark/BALiBase_trees/BBS20019_24.tree'), 1000, 0.12331160200119484, 0.08049735999884433, 0.3485360810009297]\n",
      "[PosixPath('/home/elyalab/Dev/failed_syncs/evo-sim/benchmark/BALiBase_trees/BBS50001_34.tree'), 1000, 0.1591952439994202, 0.11219112199978554, 0.5290533389998018]\n",
      "[PosixPath('/home/elyalab/Dev/failed_syncs/evo-sim/benchmark/BALiBase_trees/BBS12037_13.tree'), 1000, 0.08307027000046219, 0.04833549300019513, 0.16975277299934532]\n",
      "[PosixPath('/home/elyalab/Dev/failed_syncs/evo-sim/benchmark/BALiBase_trees/BBS12014_9.tree'), 1000, 0.04063278200192144, 0.02587581699845032, 0.06274484599998686]\n",
      "[PosixPath('/home/elyalab/Dev/failed_syncs/evo-sim/benchmark/BALiBase_trees/BBS12032_9.tree'), 1000, 0.06191317699995125, 0.03292191100263153, 0.09573826700216159]\n",
      "[PosixPath('/home/elyalab/Dev/failed_syncs/evo-sim/benchmark/BALiBase_trees/BBS30023_77.tree'), 1000, 0.3305329209979391, 0.25117920599950594, 2.0289052600019204]\n"
     ]
    }
   ],
   "source": [
    "\n",
    "time_winners = []\n",
    "measured_times: list[list[float]] = []\n",
    "\n",
    "\n",
    "\n",
    "\n",
    "\n",
    "for tree_path in list(TREES_PATH.iterdir()):#[0.5, 1,2,4,8,16]:\n",
    "    sim = refresh_sim(tree_path)\n",
    "    hybrid_time = 1000#timeit.timeit(sim.msa_from_hybrid, number=5)\n",
    "    blocklist_time = timeit.timeit(sim.msa_from_blocklist, number=5)\n",
    "    blocktree_time = timeit.timeit(sim.msa_from_blocktree, number=5)\n",
    "    naive_time = timeit.timeit(sim.msa_from_naive, number=5)\n",
    "\n",
    "    time_measures = [tree_path, hybrid_time, blocktree_time, blocklist_time, naive_time]\n",
    "    print(time_measures)\n",
    "    measured_times.append(time_measures)\n",
    "\n"
   ]
  },
  {
   "cell_type": "code",
   "execution_count": 15,
   "metadata": {},
   "outputs": [
    {
     "name": "stdout",
     "output_type": "stream",
     "text": [
      "5.94 s ± 110 ms per loop (mean ± std. dev. of 7 runs, 1 loop each)\n"
     ]
    }
   ],
   "source": [
    "%%timeit\n",
    "for tree_path in list(TREES_PATH.iterdir()):#[0.5, 1,2,4,8,16]:\n",
    "    sim = refresh_sim(tree_path / \"raxml.tree\")\n",
    "    sim.msa_from_blocklist()\n"
   ]
  },
  {
   "cell_type": "code",
   "execution_count": 17,
   "metadata": {},
   "outputs": [
    {
     "name": "stdout",
     "output_type": "stream",
     "text": [
      "6.23 s ± 67.4 ms per loop (mean ± std. dev. of 7 runs, 1 loop each)\n"
     ]
    }
   ],
   "source": [
    "%%timeit\n",
    "for tree_path in list(TREES_PATH.iterdir()):#[0.5, 1,2,4,8,16]:\n",
    "    sim = refresh_sim(tree_path / \"raxml.tree\")\n",
    "    sim.msa_from_blocktree()"
   ]
  },
  {
   "cell_type": "code",
   "execution_count": 21,
   "metadata": {},
   "outputs": [
    {
     "name": "stdout",
     "output_type": "stream",
     "text": [
      "5.84 s ± 82.3 ms per loop (mean ± std. dev. of 7 runs, 1 loop each)\n"
     ]
    }
   ],
   "source": [
    "%%timeit\n",
    "for tree_path in list(TREES_PATH.iterdir()):#[0.5, 1,2,4,8,16]:\n",
    "    sim = refresh_sim(tree_path / \"raxml.tree\")\n",
    "    sim.msa_from_hybrid()"
   ]
  },
  {
   "cell_type": "code",
   "execution_count": 35,
   "metadata": {},
   "outputs": [
    {
     "data": {
      "text/plain": [
       "[np.int64(58),\n",
       " PosixPath('/home/elyalab/Dev/failed_syncs/evo-sim/benchmark/BALiBase_trees/BBS12019_5.tree'),\n",
       " np.int64(1000),\n",
       " np.float64(0.021077352001157124),\n",
       " np.float64(0.012705077999271452),\n",
       " np.float64(0.02645640400078264)]"
      ]
     },
     "execution_count": 35,
     "metadata": {},
     "output_type": "execute_result"
    }
   ],
   "source": [
    "times_df = pd.DataFrame(measured_times, columns=time_labels).reset_index()\n",
    "\n",
    "# times_df.idxmin(axis=1).value_counts()\n",
    "times_df.loc[(times_df.blocklist - times_df.hybrid).abs().idxmax()].to_list()"
   ]
  },
  {
   "cell_type": "code",
   "execution_count": 36,
   "metadata": {},
   "outputs": [],
   "source": [
    "times_df.to_csv(\"all_methods_comparison_500.csv\")"
   ]
  },
  {
   "cell_type": "code",
   "execution_count": null,
   "metadata": {},
   "outputs": [],
   "source": [
    "times_df_100 = pd.read_csv(\"all_methods_comparison_100.csv\", index_col=0)\n",
    "times_df_100[\"Root length\"] = 100\n",
    "times_df_500 = pd.read_csv(\"all_methods_comparison_500.csv\", index_col=0)\n",
    "times_df_500[\"Root length\"] = 500\n",
    "times_df_1000 = pd.read_csv(\"all_methods_comparison_1000.csv\", index_col=0)\n",
    "times_df_1000[\"Root length\"] = 1000\n",
    "\n",
    "times_df = pd.concat([times_df_100, times_df_500, times_df_1000])\n",
    "\n",
    "list_of_rows = []\n",
    "for idx, row in times_df.iterrows():\n",
    "    list_of_rows.append({\n",
    "        \"Root length\": row[\"Root length\"],\n",
    "        \"Score type\": 'blocklist',\n",
    "        \"Time\": row['blocklist']\n",
    "    })\n",
    "    list_of_rows.append({\n",
    "        \"Root length\": row[\"Root length\"],\n",
    "        \"Score type\": 'blocktree',\n",
    "        \"Time\": row['blocktree']\n",
    "    })\n",
    "    list_of_rows.append({\n",
    "        \"Root length\": row[\"Root length\"],\n",
    "        \"Score type\": 'naive',\n",
    "        \"Time\": row['naive']\n",
    "    })\n",
    "\n",
    "df_scores = pd.DataFrame(list_of_rows)"
   ]
  },
  {
   "cell_type": "code",
   "execution_count": 58,
   "metadata": {},
   "outputs": [],
   "source": [
    "df_scores[\"Time [ms]\"] = df_scores[\"Time\"]*1000"
   ]
  },
  {
   "cell_type": "code",
   "execution_count": 93,
   "metadata": {},
   "outputs": [
    {
     "data": {
      "image/png": "[encoded data removed]",
      "text/plain": [
       "<Figure size 710x500 with 1 Axes>"
      ]
     },
     "metadata": {},
     "output_type": "display_data"
    }
   ],
   "source": [
    "ax = sns.barplot(data=df_scores, x=\"Root length\", y=\"Time [ms]\", hue=\"Score type\")\n",
    "ax.figure.set_size_inches(7.1, 5)\n",
    "sns.despine()\n",
    "hatches = ['//', '//', '//', '..', '..', '..', 'xx', 'xx', 'xx', '//','..', 'xx']\n",
    "# Loop over the bars\n",
    "handles, old_labels = ax.get_legend_handles_labels()\n",
    "new_labels = ['Block list', 'Block tree', 'Naive']  # Your custom labels here\n",
    "plt.legend(handles, new_labels, title='Methods')\n",
    "\n",
    "for i,thisbar in enumerate(ax.patches):\n",
    "    # Set a different hatch for each bar\n",
    "    thisbar.set_hatch(hatches[i])\n",
    "\n",
    "plt.tight_layout()\n",
    "plt.savefig(\"assets/orthomam_benchmark_root_length.svg\",bbox_inches=\"tight\", dpi=300)\n",
    "plt.savefig(\"assets/orthomam_benchmark_root_length.png\",bbox_inches=\"tight\", dpi=300)\n",
    "\n"
   ]
  },
  {
   "cell_type": "code",
   "execution_count": 4,
   "metadata": {},
   "outputs": [],
   "source": [
    "times_df[\"naive\"] = 1000"
   ]
  },
  {
   "cell_type": "code",
   "execution_count": 7,
   "metadata": {},
   "outputs": [
    {
     "data": {
      "text/plain": [
       "hybrid       373\n",
       "blocklist    168\n",
       "Name: count, dtype: int64"
      ]
     },
     "execution_count": 7,
     "metadata": {},
     "output_type": "execute_result"
    }
   ],
   "source": [
    "times_df.iloc[:,2:].idxmin(axis=1).value_counts()\n"
   ]
  },
  {
   "cell_type": "code",
   "execution_count": null,
   "metadata": {},
   "outputs": [],
   "source": [
    "from _Sailfish import Tree, node\n"
   ]
  },
  {
   "cell_type": "code",
   "execution_count": 26,
   "metadata": {},
   "outputs": [],
   "source": [
    "times_df[\"num_taxa\"] = times_df.tree.apply(lambda x: Tree(str(x), True).root.num_leaves)"
   ]
  },
  {
   "cell_type": "code",
   "execution_count": null,
   "metadata": {},
   "outputs": [],
   "source": [
    "times_df"
   ]
  },
  {
   "cell_type": "code",
   "execution_count": 101,
   "metadata": {},
   "outputs": [
    {
     "data": {
      "text/html": [
       "<div>\n",
       "<style scoped>\n",
       "    .dataframe tbody tr th:only-of-type {\n",
       "        vertical-align: middle;\n",
       "    }\n",
       "\n",
       "    .dataframe tbody tr th {\n",
       "        vertical-align: top;\n",
       "    }\n",
       "\n",
       "    .dataframe thead th {\n",
       "        text-align: right;\n",
       "    }\n",
       "</style>\n",
       "<table border=\"1\" class=\"dataframe\">\n",
       "  <thead>\n",
       "    <tr style=\"text-align: right;\">\n",
       "      <th></th>\n",
       "      <th>index</th>\n",
       "      <th>hybrid</th>\n",
       "      <th>blocktree</th>\n",
       "      <th>blocklist</th>\n",
       "      <th>naive</th>\n",
       "      <th>Root length</th>\n",
       "    </tr>\n",
       "  </thead>\n",
       "  <tbody>\n",
       "    <tr>\n",
       "      <th>count</th>\n",
       "      <td>142.000000</td>\n",
       "      <td>142.0</td>\n",
       "      <td>142.000000</td>\n",
       "      <td>142.000000</td>\n",
       "      <td>142.000000</td>\n",
       "      <td>142.0</td>\n",
       "    </tr>\n",
       "    <tr>\n",
       "      <th>mean</th>\n",
       "      <td>70.500000</td>\n",
       "      <td>1000.0</td>\n",
       "      <td>0.023762</td>\n",
       "      <td>0.017500</td>\n",
       "      <td>0.028248</td>\n",
       "      <td>100.0</td>\n",
       "    </tr>\n",
       "    <tr>\n",
       "      <th>std</th>\n",
       "      <td>41.135953</td>\n",
       "      <td>0.0</td>\n",
       "      <td>0.019389</td>\n",
       "      <td>0.015672</td>\n",
       "      <td>0.035774</td>\n",
       "      <td>0.0</td>\n",
       "    </tr>\n",
       "    <tr>\n",
       "      <th>min</th>\n",
       "      <td>0.000000</td>\n",
       "      <td>1000.0</td>\n",
       "      <td>0.003081</td>\n",
       "      <td>0.002177</td>\n",
       "      <td>0.001355</td>\n",
       "      <td>100.0</td>\n",
       "    </tr>\n",
       "    <tr>\n",
       "      <th>25%</th>\n",
       "      <td>35.250000</td>\n",
       "      <td>1000.0</td>\n",
       "      <td>0.009118</td>\n",
       "      <td>0.005353</td>\n",
       "      <td>0.004630</td>\n",
       "      <td>100.0</td>\n",
       "    </tr>\n",
       "    <tr>\n",
       "      <th>50%</th>\n",
       "      <td>70.500000</td>\n",
       "      <td>1000.0</td>\n",
       "      <td>0.017880</td>\n",
       "      <td>0.012673</td>\n",
       "      <td>0.012026</td>\n",
       "      <td>100.0</td>\n",
       "    </tr>\n",
       "    <tr>\n",
       "      <th>75%</th>\n",
       "      <td>105.750000</td>\n",
       "      <td>1000.0</td>\n",
       "      <td>0.033653</td>\n",
       "      <td>0.025602</td>\n",
       "      <td>0.040659</td>\n",
       "      <td>100.0</td>\n",
       "    </tr>\n",
       "    <tr>\n",
       "      <th>max</th>\n",
       "      <td>141.000000</td>\n",
       "      <td>1000.0</td>\n",
       "      <td>0.121061</td>\n",
       "      <td>0.090657</td>\n",
       "      <td>0.194514</td>\n",
       "      <td>100.0</td>\n",
       "    </tr>\n",
       "  </tbody>\n",
       "</table>\n",
       "</div>"
      ],
      "text/plain": [
       "            index  hybrid   blocktree   blocklist       naive  Root length\n",
       "count  142.000000   142.0  142.000000  142.000000  142.000000        142.0\n",
       "mean    70.500000  1000.0    0.023762    0.017500    0.028248        100.0\n",
       "std     41.135953     0.0    0.019389    0.015672    0.035774          0.0\n",
       "min      0.000000  1000.0    0.003081    0.002177    0.001355        100.0\n",
       "25%     35.250000  1000.0    0.009118    0.005353    0.004630        100.0\n",
       "50%     70.500000  1000.0    0.017880    0.012673    0.012026        100.0\n",
       "75%    105.750000  1000.0    0.033653    0.025602    0.040659        100.0\n",
       "max    141.000000  1000.0    0.121061    0.090657    0.194514        100.0"
      ]
     },
     "execution_count": 101,
     "metadata": {},
     "output_type": "execute_result"
    }
   ],
   "source": [
    "times_df_100.describe()"
   ]
  },
  {
   "cell_type": "code",
   "execution_count": 98,
   "metadata": {},
   "outputs": [
    {
     "name": "stdout",
     "output_type": "stream",
     "text": [
      "Tukey's HSD Pairwise Group Comparisons (95.0% Confidence Interval)\n",
      "Comparison  Statistic  p-value  Lower CI  Upper CI\n",
      " (0 - 1)      0.011     0.001     0.004     0.018\n",
      " (0 - 2)      0.004     0.291    -0.003     0.012\n",
      " (1 - 0)     -0.011     0.001    -0.018    -0.004\n",
      " (1 - 2)     -0.006     0.092    -0.013     0.001\n",
      " (2 - 0)     -0.004     0.291    -0.012     0.003\n",
      " (2 - 1)      0.006     0.092    -0.001     0.013\n",
      "\n"
     ]
    }
   ],
   "source": [
    "# stats.f_oneway(times_df[\"naive\"], times_df[\"blocktree\"], times_df[\"blocklist\"], times_df[\"hybrid\"])\n",
    "# stats.f_oneway(times_df_100[\"blocktree\"], times_df_100[\"blocklist\"], times_df_100[\"naive\"])\n",
    "\n",
    "tuk = stats.tukey_hsd(times_df_100[\"naive\"], times_df_100[\"blocklist\"], times_df_100[\"blocktree\"])\n",
    "print(tuk)"
   ]
  },
  {
   "cell_type": "code",
   "execution_count": null,
   "metadata": {},
   "outputs": [
    {
     "data": {
      "text/plain": [
       "[Text(0, 0, 'Hybrid'), Text(1, 0, 'Naive')]"
      ]
     },
     "execution_count": 16,
     "metadata": {},
     "output_type": "execute_result"
    },
    {
     "data": {
      "image/png": "[encoded data removed]",
      "text/plain": [
       "<Figure size 1000x1000 with 1 Axes>"
      ]
     },
     "metadata": {},
     "output_type": "display_data"
    }
   ],
   "source": [
    "\n",
    "# ax = times_df.plot.scatter(x=\"index\", y=time_labels[1], label=time_labels[1], figsize=(20, 10), s=40)\n",
    "sns.set_theme(style=\"ticks\", font_scale=1.25)\n",
    "ax = sns.barplot(data=times_df.iloc[:,[2,5]], x=\"Root length\")\n",
    "# ax.set_yscale(\"log\")\n",
    "ax.set_ylim(0, 2)\n",
    "ax.set_ylabel(\"Time (sec.)\", size=16)\n",
    "ax.set_xlabel(\"Simulation method\")\n",
    "for idx,label in enumerate([time_labels[1], time_labels[3]]):\n",
    "    mean = times_df[label].mean()\n",
    "    std = times_df[label].std()\n",
    "    plt.text(idx, plt.ylim()[0], \n",
    "             f'μ={mean:.3f}\\nσ={std:.3f}',\n",
    "             horizontalalignment='center',\n",
    "             verticalalignment='bottom', size=15)\n",
    "ax.figure.set_size_inches(10, 10)\n",
    "sns.despine()\n",
    "\n",
    "ticks = ax.get_xticks()\n",
    "ax.set_xticks(ticks)\n",
    "new_xticklabels = [item.get_text().title() for item in ax.get_xticklabels()]\n",
    "ax.set_xticklabels(new_xticklabels)\n",
    "\n",
    "# plt.savefig(\"assets/orthomam_benchmark.svg\",bbox_inches=\"tight\")\n",
    "# plt.savefig(\"assets/orthomam_benchmark.png\",bbox_inches=\"tight\", dpi=300)\n",
    "\n",
    "# times_df.plot.box(x=\"index\", y=time_labels[2], ax=ax, label=time_labe\n",
    "# ls[2], s=40)\n",
    "# times_df.plot.box(x=\"index\", y=time_labels[3], ax=ax, label=time_labels[3], s=40)\n",
    "# times_df.plot.box(x=\"index\", y=time_labels[4], ax=ax, label=time_labels[4], s=40)\n",
    "# ax.set_yscale(\"log\")\n",
    "# ax.set_ylabel(\"Time (sec.)\", fontsize=25)\n",
    "# ax.set_xlabel(\"\")\n",
    "\n",
    "# ax.legend(fontsize=25)\n"
   ]
  }
 ],
 "metadata": {
  "kernelspec": {
   "display_name": "work",
   "language": "python",
   "name": "python3"
  },
  "language_info": {
   "codemirror_mode": {
    "name": "ipython",
    "version": 3
   },
   "file_extension": ".py",
   "mimetype": "text/x-python",
   "name": "python",
   "nbconvert_exporter": "python",
   "pygments_lexer": "ipython3",
   "version": "3.10.12"
  }
 },
 "nbformat": 4,
 "nbformat_minor": 2
}
