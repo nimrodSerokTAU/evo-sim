{
 "cells": [
  {
   "cell_type": "code",
   "execution_count": 21,
   "metadata": {},
   "outputs": [],
   "source": [
    "from pathlib import Path\n",
    "\n",
    "import numpy as np\n",
    "from ete3 import Tree, TreeNode"
   ]
  },
  {
   "cell_type": "code",
   "execution_count": 22,
   "metadata": {},
   "outputs": [
    {
     "name": "stdout",
     "output_type": "stream",
     "text": [
      "/home/pupkolab/temp/evo-sim/benchmark/TRUE_TREES\n"
     ]
    }
   ],
   "source": [
    "TREE_PATH = Path(\"../TRUE_TREES\").resolve()\n",
    "print(TREE_PATH)"
   ]
  },
  {
   "cell_type": "code",
   "execution_count": 23,
   "metadata": {},
   "outputs": [],
   "source": [
    "def get_sum_branches(root: TreeNode, all_branches: list[float]) -> int :\n",
    "    dist = 0.0\n",
    "    for child in root.children:\n",
    "        all_branches.append(child.dist)\n",
    "        dist += (child.dist + get_sum_branches(child, all_branches))\n",
    "    return dist"
   ]
  },
  {
   "cell_type": "code",
   "execution_count": 24,
   "metadata": {},
   "outputs": [],
   "source": [
    "num_unique_species = set()\n",
    "sum_branch_lengths = []\n",
    "all_branches_lengths = []\n",
    "for file in TREE_PATH.iterdir():\n",
    "    current_tree = Tree(str(file))\n",
    "    num_unique_species.add(len(current_tree.get_leaf_names()))\n",
    "    sum_branch_lengths.append(get_sum_branches(current_tree, all_branches_lengths))\n"
   ]
  },
  {
   "cell_type": "code",
   "execution_count": 25,
   "metadata": {},
   "outputs": [
    {
     "data": {
      "text/plain": [
       "(np.float64(0.03805088634532442), np.float64(0.059610421881821855))"
      ]
     },
     "execution_count": 25,
     "metadata": {},
     "output_type": "execute_result"
    }
   ],
   "source": [
    "np.mean(all_branches_lengths), np.std(all_branches_lengths)"
   ]
  },
  {
   "cell_type": "code",
   "execution_count": 26,
   "metadata": {},
   "outputs": [
    {
     "data": {
      "text/plain": [
       "{40}"
      ]
     },
     "execution_count": 26,
     "metadata": {},
     "output_type": "execute_result"
    }
   ],
   "source": [
    "num_unique_species"
   ]
  },
  {
   "cell_type": "code",
   "execution_count": 27,
   "metadata": {},
   "outputs": [
    {
     "data": {
      "text/plain": [
       "(np.float64(2.9679691349353052), np.float64(0.9541755103695044))"
      ]
     },
     "execution_count": 27,
     "metadata": {},
     "output_type": "execute_result"
    }
   ],
   "source": [
    "np.mean(sum_branch_lengths), np.std(sum_branch_lengths)"
   ]
  }
 ],
 "metadata": {
  "kernelspec": {
   "display_name": "indel_sim",
   "language": "python",
   "name": "python3"
  },
  "language_info": {
   "codemirror_mode": {
    "name": "ipython",
    "version": 3
   },
   "file_extension": ".py",
   "mimetype": "text/x-python",
   "name": "python",
   "nbconvert_exporter": "python",
   "pygments_lexer": "ipython3",
   "version": "3.10.12"
  }
 },
 "nbformat": 4,
 "nbformat_minor": 2
}
